{
 "cells": [
  {
   "cell_type": "code",
   "execution_count": 1,
   "metadata": {},
   "outputs": [],
   "source": [
    "import numpy as np"
   ]
  },
  {
   "cell_type": "markdown",
   "metadata": {},
   "source": [
    "### 인덱싱"
   ]
  },
  {
   "cell_type": "code",
   "execution_count": 3,
   "metadata": {},
   "outputs": [
    {
     "name": "stdout",
     "output_type": "stream",
     "text": [
      "[11 22 33 44 55]\n"
     ]
    }
   ],
   "source": [
    "arr = np.array([11, 22, 33, 44, 55])\n",
    "print(arr)"
   ]
  },
  {
   "cell_type": "code",
   "execution_count": 11,
   "metadata": {},
   "outputs": [
    {
     "name": "stdout",
     "output_type": "stream",
     "text": [
      "11\n",
      "55\n"
     ]
    }
   ],
   "source": [
    "# 데이터 하나 선택\n",
    "# 인덱스 번호 0부터 시작\n",
    "# 끝에서 -1부터 시작\n",
    "print(arr[0])\n",
    "print(arr[-1])"
   ]
  },
  {
   "cell_type": "code",
   "execution_count": 10,
   "metadata": {},
   "outputs": [
    {
     "name": "stdout",
     "output_type": "stream",
     "text": [
      "[11 55]\n"
     ]
    }
   ],
   "source": [
    "# 데이터 복수개 선택\n",
    "print(arr[[0, -1]])"
   ]
  },
  {
   "cell_type": "code",
   "execution_count": 17,
   "metadata": {},
   "outputs": [
    {
     "name": "stdout",
     "output_type": "stream",
     "text": [
      "[11 22 55]\n"
     ]
    }
   ],
   "source": [
    "# 불린 인덱싱(boolean indexing)\n",
    "# True에 해당하는 데이터 출력\n",
    "# 데이터 개수와 불린 개수가 같아야 한다\n",
    "print(arr[[True, True, False, False, True]])"
   ]
  },
  {
   "cell_type": "markdown",
   "metadata": {},
   "source": [
    "### 슬라이싱"
   ]
  },
  {
   "cell_type": "code",
   "execution_count": 26,
   "metadata": {},
   "outputs": [
    {
     "name": "stdout",
     "output_type": "stream",
     "text": [
      "[22 33 44]\n",
      "[22 44]\n",
      "[11 22 33 44 55]\n",
      "[11 22 33 44]\n",
      "[22 33 44 55]\n",
      "[22 33 44]\n",
      "[55 44 33 22 11]\n"
     ]
    }
   ],
   "source": [
    "# [시작 : 끝 : 증가치]\n",
    "print(arr[1:4]) # 1 <= index < 4, 증가치 생략시 1씩 증가\n",
    "print(arr[1:4:2]) # 1 <= index < 4, 2씩 증가\n",
    "print(arr[:]) # 모든 데이터 선택\n",
    "print(arr[:4]) # 시작 생략시 0\n",
    "print(arr[1:]) # 끝 생략시 마지막 데이터까지\n",
    "print(arr[1:-1])\n",
    "print(arr[::-1]) # 역순으로 출력"
   ]
  },
  {
   "cell_type": "markdown",
   "metadata": {},
   "source": [
    "### 연산(산술, 관계, 논리)\n",
    "- element wise(요소별 연산)"
   ]
  },
  {
   "cell_type": "markdown",
   "metadata": {},
   "source": [
    "1. 산술 연산 "
   ]
  },
  {
   "cell_type": "code",
   "execution_count": 28,
   "metadata": {},
   "outputs": [
    {
     "name": "stdout",
     "output_type": "stream",
     "text": [
      "[11 22 33 44 55]\n"
     ]
    }
   ],
   "source": [
    "arr = np.array([11, 22, 33, 44, 55])\n",
    "print(arr)"
   ]
  },
  {
   "cell_type": "code",
   "execution_count": 31,
   "metadata": {},
   "outputs": [
    {
     "name": "stdout",
     "output_type": "stream",
     "text": [
      "[13 24 35 46 57]\n",
      "[ 9 20 31 42 53]\n",
      "[ 22  44  66  88 110]\n",
      "[ 5.5 11.  16.5 22.  27.5]\n"
     ]
    }
   ],
   "source": [
    "print(arr + 2)\n",
    "print(arr -2)\n",
    "print(arr * 2)\n",
    "print(arr /2)"
   ]
  },
  {
   "cell_type": "code",
   "execution_count": 32,
   "metadata": {},
   "outputs": [
    {
     "name": "stdout",
     "output_type": "stream",
     "text": [
      "[12 24 36 48 60]\n"
     ]
    }
   ],
   "source": [
    "arr1 = np.array([1, 2, 3, 4, 5])\n",
    "print(arr + arr1)"
   ]
  },
  {
   "cell_type": "markdown",
   "metadata": {},
   "source": [
    "2. 관계 연산\n",
    "- and: &\n",
    "- or: |\n",
    "- not: ~"
   ]
  },
  {
   "cell_type": "code",
   "execution_count": 33,
   "metadata": {},
   "outputs": [
    {
     "name": "stdout",
     "output_type": "stream",
     "text": [
      "[False False  True  True  True]\n"
     ]
    }
   ],
   "source": [
    "print(arr > 30) # 참이면 True, 거짓이면 False 반환"
   ]
  },
  {
   "cell_type": "code",
   "execution_count": 34,
   "metadata": {},
   "outputs": [
    {
     "name": "stdout",
     "output_type": "stream",
     "text": [
      "[33 44 55]\n"
     ]
    }
   ],
   "source": [
    "print(arr[arr > 30]) # boolean indexing"
   ]
  },
  {
   "cell_type": "markdown",
   "metadata": {},
   "source": [
    "3. 논리 연산"
   ]
  },
  {
   "cell_type": "code",
   "execution_count": 39,
   "metadata": {},
   "outputs": [
    {
     "data": {
      "text/plain": [
       "array([11, 22, 33, 44, 55])"
      ]
     },
     "execution_count": 39,
     "metadata": {},
     "output_type": "execute_result"
    }
   ],
   "source": [
    "arr"
   ]
  },
  {
   "cell_type": "code",
   "execution_count": 46,
   "metadata": {},
   "outputs": [
    {
     "name": "stdout",
     "output_type": "stream",
     "text": [
      "[22 33 44]\n",
      "[11 55]\n",
      "[11 55]\n"
     ]
    }
   ],
   "source": [
    "print(arr[(arr > 20) & (arr < 50)]) # and\n",
    "print(arr[(arr == 11)|(arr == 55)]) # or\n",
    "print(arr[~((arr > 20) & (arr < 50))]) # not, and"
   ]
  },
  {
   "cell_type": "markdown",
   "metadata": {},
   "source": [
    "4. 조건 연산"
   ]
  },
  {
   "cell_type": "code",
   "execution_count": 48,
   "metadata": {},
   "outputs": [
    {
     "name": "stdout",
     "output_type": "stream",
     "text": [
      "[10 20 30 40 50]\n"
     ]
    }
   ],
   "source": [
    "arr = np.array([10, 20, 30, 40, 50])\n",
    "print(arr)"
   ]
  },
  {
   "cell_type": "code",
   "execution_count": 50,
   "metadata": {},
   "outputs": [
    {
     "name": "stdout",
     "output_type": "stream",
     "text": [
      "['C' 'C' 'B' 'B' 'A']\n"
     ]
    }
   ],
   "source": [
    "conList = [arr>40, arr>20, arr>0]\n",
    "choiceList = ['A', 'B', 'C']\n",
    "print(np.select(conList, choiceList))"
   ]
  }
 ],
 "metadata": {
  "kernelspec": {
   "display_name": "Python 3",
   "language": "python",
   "name": "python3"
  },
  "language_info": {
   "codemirror_mode": {
    "name": "ipython",
    "version": 3
   },
   "file_extension": ".py",
   "mimetype": "text/x-python",
   "name": "python",
   "nbconvert_exporter": "python",
   "pygments_lexer": "ipython3",
   "version": "3.8.5"
  }
 },
 "nbformat": 4,
 "nbformat_minor": 4
}
