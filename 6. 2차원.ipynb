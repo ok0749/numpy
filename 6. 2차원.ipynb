{
 "cells": [
  {
   "cell_type": "code",
   "execution_count": 1,
   "metadata": {},
   "outputs": [],
   "source": [
    "import numpy as np"
   ]
  },
  {
   "cell_type": "code",
   "execution_count": 3,
   "metadata": {},
   "outputs": [
    {
     "name": "stdout",
     "output_type": "stream",
     "text": [
      "[[1 2 3]\n",
      " [4 5 6]\n",
      " [9 8 7]\n",
      " [6 3 4]]\n"
     ]
    }
   ],
   "source": [
    "data = np.array([[1, 2, 3], [4, 5, 6], [9, 8, 7], [6, 3, 4]])\n",
    "print(data)"
   ]
  },
  {
   "cell_type": "markdown",
   "metadata": {},
   "source": [
    "### 인덱싱, 슬라이싱"
   ]
  },
  {
   "cell_type": "code",
   "execution_count": 19,
   "metadata": {},
   "outputs": [
    {
     "name": "stdout",
     "output_type": "stream",
     "text": [
      "1 \n",
      "\n",
      "[1 4 9 6] \n",
      "\n",
      "[[1]\n",
      " [4]\n",
      " [9]\n",
      " [6]] \n",
      "\n",
      "[[1 2 3]\n",
      " [9 8 7]\n",
      " [6 3 4]] \n",
      "\n",
      "[[1 3]\n",
      " [4 6]\n",
      " [9 7]\n",
      " [6 4]] \n",
      "\n",
      "[[1 2]\n",
      " [4 5]\n",
      " [9 8]\n",
      " [6 3]]\n"
     ]
    }
   ],
   "source": [
    "print(data[0, 0], '\\n') # 행, 열\n",
    "print(data[:,0], '\\n') # 전체 행에서 0번째 열(형태가 바뀐다)\n",
    "print(data[:,[0]], '\\n') # 전체 행에서 0번째 열(형태 유지)\n",
    "print(data[[0,2,3]], '\\n') # 복수개 행 \n",
    "print(data[:, [0,2]], '\\n') # 복수개 열\n",
    "print(data[:,:-1]) # 마지막 열 제외"
   ]
  },
  {
   "cell_type": "code",
   "execution_count": 22,
   "metadata": {},
   "outputs": [
    {
     "name": "stdout",
     "output_type": "stream",
     "text": [
      "4\n",
      "[[1 2 3]\n",
      " [4 5 6]\n",
      " [6 3 4]]\n"
     ]
    }
   ],
   "source": [
    "# boolean indexing\n",
    "# 행의 개수와 같아야 한다.\n",
    "print(len(data)) # 행의 개수\n",
    "print(data[[True, True, False, True]]) # True에 해당하는 행 출력"
   ]
  },
  {
   "cell_type": "markdown",
   "metadata": {},
   "source": [
    "### 연산"
   ]
  },
  {
   "cell_type": "code",
   "execution_count": 24,
   "metadata": {},
   "outputs": [
    {
     "name": "stdout",
     "output_type": "stream",
     "text": [
      "[[1 2 3]\n",
      " [4 5 6]\n",
      " [9 8 7]\n",
      " [6 3 4]]\n"
     ]
    }
   ],
   "source": [
    "print(data)"
   ]
  },
  {
   "cell_type": "code",
   "execution_count": 23,
   "metadata": {},
   "outputs": [
    {
     "name": "stdout",
     "output_type": "stream",
     "text": [
      "[[ 3  4  5]\n",
      " [ 6  7  8]\n",
      " [11 10  9]\n",
      " [ 8  5  6]]\n"
     ]
    }
   ],
   "source": [
    "print(data + 2)"
   ]
  },
  {
   "cell_type": "code",
   "execution_count": 29,
   "metadata": {},
   "outputs": [
    {
     "name": "stdout",
     "output_type": "stream",
     "text": [
      "[6 9 8 7 6]\n",
      "[[9 8 7]\n",
      " [6 3 4]]\n"
     ]
    }
   ],
   "source": [
    "print(data[data > 5]) # 1차원 반환\n",
    "print(data[data[:, 0] > 5]) # column별 조건 주고 조건을 만족하는 행 출력"
   ]
  },
  {
   "cell_type": "markdown",
   "metadata": {},
   "source": [
    "### 추가, 수정, 삭제, 검색, 정렬"
   ]
  },
  {
   "cell_type": "code",
   "execution_count": 30,
   "metadata": {},
   "outputs": [],
   "source": [
    "arr1 = np.array([[1, 2], [3, 4]])\n",
    "arr2 = np.array([[5, 6], [7, 8]])\n",
    "arr3 = np.array([[5, 6, 7], [7, 8, 6]])"
   ]
  },
  {
   "cell_type": "code",
   "execution_count": 34,
   "metadata": {},
   "outputs": [
    {
     "name": "stdout",
     "output_type": "stream",
     "text": [
      "[[1 2]\n",
      " [3 4]]\n",
      "\n",
      "[[5 6]\n",
      " [7 8]]\n",
      "\n",
      "[[5 6 7]\n",
      " [7 8 6]]\n"
     ]
    }
   ],
   "source": [
    "print(arr1, arr2, arr3, sep='\\n\\n')"
   ]
  },
  {
   "cell_type": "code",
   "execution_count": 40,
   "metadata": {},
   "outputs": [
    {
     "name": "stdout",
     "output_type": "stream",
     "text": [
      "[1 2 3 4 5 6 7 8] \n",
      "\n",
      "[[1 2]\n",
      " [3 4]\n",
      " [5 6]\n",
      " [7 8]] \n",
      "\n",
      "[[1 2 5 6]\n",
      " [3 4 7 8]]\n"
     ]
    }
   ],
   "source": [
    "print(np.append(arr1, arr2), '\\n') # 1차원 반환\n",
    "print(np.append(arr1, arr2, axis=0), '\\n') # row 추가, column 개수 같아야 한다.\n",
    "print(np.append(arr1, arr2, axis=1)) # column 추가, row 개수 같아야 한다."
   ]
  },
  {
   "cell_type": "code",
   "execution_count": 43,
   "metadata": {},
   "outputs": [
    {
     "name": "stdout",
     "output_type": "stream",
     "text": [
      "[[1 2 5 6]\n",
      " [3 4 7 8]] \n",
      "\n",
      "[[1 2]\n",
      " [3 4]\n",
      " [5 6]\n",
      " [7 8]]\n"
     ]
    }
   ],
   "source": [
    "print(np.hstack((arr1, arr2)), '\\n') # 수평으로 추가(column 추가)\n",
    "print(np.vstack((arr1, arr2))) # 수직으로 추가 row 추가"
   ]
  },
  {
   "cell_type": "code",
   "execution_count": 49,
   "metadata": {},
   "outputs": [
    {
     "name": "stdout",
     "output_type": "stream",
     "text": [
      "[[1 2 3]\n",
      " [4 5 6]\n",
      " [9 8 7]\n",
      " [6 3 4]] \n",
      "\n",
      "[2 4 5 6 9 8 7 6 3 4] \n",
      "\n",
      "[[4 5 6]\n",
      " [6 3 4]] \n",
      "\n",
      "[[2]\n",
      " [5]\n",
      " [8]\n",
      " [3]]\n"
     ]
    }
   ],
   "source": [
    "print(data, '\\n')\n",
    "print(np.delete(data, (0, 2)), '\\n') # 1차원(벡터) 해석, 해당 인덱스 데이터 삭제\n",
    "print(np.delete(data, (0, 2), axis=0), '\\n') # 0, 2번째 row 삭제\n",
    "print(np.delete(data, (0, 2), axis=1)) # 0, 2번째 column 삭제"
   ]
  },
  {
   "cell_type": "code",
   "execution_count": 60,
   "metadata": {},
   "outputs": [
    {
     "name": "stdout",
     "output_type": "stream",
     "text": [
      "[1 2 3 3 4 4 5 6 6 7 8 9] \n",
      "\n",
      "[[1 2 3]\n",
      " [4 5 6]\n",
      " [7 8 9]\n",
      " [3 4 6]] \n",
      "\n",
      "[[1 2 3]\n",
      " [4 3 4]\n",
      " [6 5 6]\n",
      " [9 8 7]]\n"
     ]
    }
   ],
   "source": [
    "print(np.sort(data, axis=None), '\\n') # 벡터 정렬\n",
    "print(np.sort(data), '\\n') # row별 정렬\n",
    "print(np.sort(data, axis=0)) # column별 정렬"
   ]
  },
  {
   "cell_type": "markdown",
   "metadata": {},
   "source": [
    "### 통계"
   ]
  },
  {
   "cell_type": "code",
   "execution_count": 64,
   "metadata": {},
   "outputs": [
    {
     "name": "stdout",
     "output_type": "stream",
     "text": [
      "58 \n",
      "\n",
      "[20 18 20] \n",
      "\n",
      "[ 6 15 24 13]\n"
     ]
    }
   ],
   "source": [
    "print(np.sum(data), '\\n') # 총합\n",
    "print(np.sum(data, axis=0), '\\n') # column별 합\n",
    "print(np.sum(data, axis=1)) # row별 합"
   ]
  }
 ],
 "metadata": {
  "kernelspec": {
   "display_name": "Python 3",
   "language": "python",
   "name": "python3"
  },
  "language_info": {
   "codemirror_mode": {
    "name": "ipython",
    "version": 3
   },
   "file_extension": ".py",
   "mimetype": "text/x-python",
   "name": "python",
   "nbconvert_exporter": "python",
   "pygments_lexer": "ipython3",
   "version": "3.8.5"
  }
 },
 "nbformat": 4,
 "nbformat_minor": 4
}
