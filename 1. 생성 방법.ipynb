{
 "cells": [
  {
   "cell_type": "code",
   "execution_count": 1,
   "metadata": {},
   "outputs": [],
   "source": [
    "import numpy as np"
   ]
  },
  {
   "cell_type": "code",
   "execution_count": 8,
   "metadata": {},
   "outputs": [
    {
     "name": "stdout",
     "output_type": "stream",
     "text": [
      "[10 20 30]\n",
      "<class 'numpy.ndarray'>\n",
      "\n",
      "[[ 10  20  30]\n",
      " [100 200 300]]\n",
      "<class 'numpy.ndarray'>\n"
     ]
    }
   ],
   "source": [
    "# ndarray 생벙 방법 1.\n",
    "arr1 = np.array([10, 20, 30]) # 1차원\n",
    "print(arr1)\n",
    "print(type(arr1))\n",
    "print()\n",
    "arr2 = np.array([[10, 20, 30], [100, 200, 300]]) # 2차원\n",
    "print(arr2)\n",
    "print(type(arr2))"
   ]
  },
  {
   "cell_type": "code",
   "execution_count": 12,
   "metadata": {},
   "outputs": [
    {
     "name": "stdout",
     "output_type": "stream",
     "text": [
      "[ 1  2  3  4  5  6  7  8  9 10]\n",
      "<class 'numpy.ndarray'>\n",
      "\n",
      "[1 3 5 7 9]\n",
      "<class 'numpy.ndarray'>\n"
     ]
    }
   ],
   "source": [
    "# ndarray 생성 방법 2.\n",
    "arr3 = np.arange(1, 11, 1) # 1 <= x < 11, 1씩 증가\n",
    "print(arr3)\n",
    "print()\n",
    "arr4 = np.arange(1, 11, 2) # 1 <= x < 11, 2씩 증가\n",
    "print(arr4)"
   ]
  },
  {
   "cell_type": "code",
   "execution_count": 17,
   "metadata": {},
   "outputs": [
    {
     "name": "stdout",
     "output_type": "stream",
     "text": [
      "[7 5 5 8 7]\n",
      "<class 'numpy.ndarray'>\n",
      "\n",
      "[[ 3  3]\n",
      " [10  2]\n",
      " [ 6  7]]\n",
      "<class 'numpy.ndarray'>\n"
     ]
    }
   ],
   "source": [
    "# ndarray 생성 방법 3\n",
    "arr5 = np.random.randint(1, 11, size=5) # 1 <= x < 11, 임의의 정수 5개 \n",
    "print(arr5)\n",
    "print(type(arr5))\n",
    "print()\n",
    "arr6 = np.random.randint(1, 11, size=(3, 2)) # 1 <= x < 11, 임의의 정수 3행 2열 \n",
    "print(arr6)\n",
    "print(type(arr6))"
   ]
  },
  {
   "cell_type": "code",
   "execution_count": 42,
   "metadata": {},
   "outputs": [
    {
     "name": "stdout",
     "output_type": "stream",
     "text": [
      "[0.20740392 0.6264415 ]\n",
      "<class 'numpy.ndarray'>\n",
      "\n",
      "[[0.45948166 0.60825737 0.55567239]\n",
      " [0.45449324 0.50420461 0.36897497]]\n",
      "<class 'numpy.ndarray'>\n"
     ]
    }
   ],
   "source": [
    "arr7 = np.random.rand(2) # 0 ~ 1 임의의 실수 2개\n",
    "print(arr7)\n",
    "print()\n",
    "arr8 = np.random.rand(2, 3) # 0 ~ 1 임의의 실수 2행 3열\n",
    "print(arr8)"
   ]
  },
  {
   "cell_type": "code",
   "execution_count": 48,
   "metadata": {},
   "outputs": [
    {
     "name": "stdout",
     "output_type": "stream",
     "text": [
      "[-1.01961541 -1.66413366 -0.63360088 ...  0.02382813 -0.09508011\n",
      "  0.99450635]\n",
      "<class 'numpy.ndarray'>\n"
     ]
    }
   ],
   "source": [
    "arr8 = np.random.randn(10000) # 표준정규분포(평균 0, 표준편차 1), 개수가 많을수록 표준정규분포에 가까워진다.\n",
    "print(arr8)"
   ]
  },
  {
   "cell_type": "code",
   "execution_count": 52,
   "metadata": {},
   "outputs": [
    {
     "name": "stdout",
     "output_type": "stream",
     "text": [
      "[4 5 3]\n",
      "\n",
      "[3 2 5 4 1]\n"
     ]
    }
   ],
   "source": [
    "arr9 = np.random.choice([1, 2, 3, 4, 5], 3) # 임의로 3개 복원 추출\n",
    "print(arr9)\n",
    "print()\n",
    "arr10 = np.random.choice(np.arange(1, 6), 5, replace=False) # 임의로 5개 비복원 추출\n",
    "print(arr10)"
   ]
  },
  {
   "cell_type": "code",
   "execution_count": 61,
   "metadata": {},
   "outputs": [
    {
     "name": "stdout",
     "output_type": "stream",
     "text": [
      "[ 8  7  2 10  4  1  6  3  9  5]\n"
     ]
    }
   ],
   "source": [
    "arr11 = np.arange(1, 11)\n",
    "np.random.shuffle(arr11) # 데이터 무작위로 섞기\n",
    "print(arr11)"
   ]
  },
  {
   "cell_type": "code",
   "execution_count": 67,
   "metadata": {},
   "outputs": [
    {
     "name": "stdout",
     "output_type": "stream",
     "text": [
      "[1 2 3 4 5] int32 \n",
      "\n",
      "[1. 2. 3. 4. 5.] float32 \n",
      "\n",
      "['1' '2' '3' '4' '5'] <U1\n"
     ]
    }
   ],
   "source": [
    "# ndarray 생성 방법 3. \n",
    "arr12 = np.int32([1, 2, 3, 4, 5]) # 데이터 하나가 4byte, 즉 32bit\n",
    "print(arr12, arr12.dtype, '\\n')\n",
    "arr13 = np.float32([1, 2, 3, 4, 5])\n",
    "print(arr13, arr13.dtype, '\\n')\n",
    "arr14 = np.array([1, 2, 3, 4, 5], dtype='<U1')\n",
    "print(arr14, arr14.dtype)"
   ]
  },
  {
   "cell_type": "code",
   "execution_count": 73,
   "metadata": {},
   "outputs": [
    {
     "name": "stdout",
     "output_type": "stream",
     "text": [
      "[[1. 1. 1.]\n",
      " [1. 1. 1.]\n",
      " [1. 1. 1.]] \n",
      "\n",
      "[[0. 0. 0.]\n",
      " [0. 0. 0.]\n",
      " [0. 0. 0.]] \n",
      "\n",
      "[[1. 0. 0.]\n",
      " [0. 1. 0.]\n",
      " [0. 0. 1.]] \n",
      "\n"
     ]
    }
   ],
   "source": [
    "# ndarray 생성 방법 4.\n",
    "print(np.ones((3, 3)), '\\n') # 데이터가 모두 1\n",
    "print(np.zeros((3, 3)), '\\n') # 데이터가 모두 0\n",
    "print(np.eye(3), '\\n') # sparse 매트릭스(희소 행렬), one hote encoding"
   ]
  },
  {
   "cell_type": "code",
   "execution_count": 74,
   "metadata": {},
   "outputs": [
    {
     "data": {
      "text/plain": [
       "array([ 1.        ,  1.18367347,  1.36734694,  1.55102041,  1.73469388,\n",
       "        1.91836735,  2.10204082,  2.28571429,  2.46938776,  2.65306122,\n",
       "        2.83673469,  3.02040816,  3.20408163,  3.3877551 ,  3.57142857,\n",
       "        3.75510204,  3.93877551,  4.12244898,  4.30612245,  4.48979592,\n",
       "        4.67346939,  4.85714286,  5.04081633,  5.2244898 ,  5.40816327,\n",
       "        5.59183673,  5.7755102 ,  5.95918367,  6.14285714,  6.32653061,\n",
       "        6.51020408,  6.69387755,  6.87755102,  7.06122449,  7.24489796,\n",
       "        7.42857143,  7.6122449 ,  7.79591837,  7.97959184,  8.16326531,\n",
       "        8.34693878,  8.53061224,  8.71428571,  8.89795918,  9.08163265,\n",
       "        9.26530612,  9.44897959,  9.63265306,  9.81632653, 10.        ])"
      ]
     },
     "execution_count": 74,
     "metadata": {},
     "output_type": "execute_result"
    }
   ],
   "source": [
    "print(np.linspace(1, 10, 50)) # 1 <= x <=10, 50개 동일한 간격으로 "
   ]
  }
 ],
 "metadata": {
  "kernelspec": {
   "display_name": "Python 3",
   "language": "python",
   "name": "python3"
  },
  "language_info": {
   "codemirror_mode": {
    "name": "ipython",
    "version": 3
   },
   "file_extension": ".py",
   "mimetype": "text/x-python",
   "name": "python",
   "nbconvert_exporter": "python",
   "pygments_lexer": "ipython3",
   "version": "3.8.5"
  }
 },
 "nbformat": 4,
 "nbformat_minor": 4
}
