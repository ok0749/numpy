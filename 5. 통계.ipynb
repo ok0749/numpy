{
 "cells": [
  {
   "cell_type": "code",
   "execution_count": 1,
   "metadata": {},
   "outputs": [],
   "source": [
    "import numpy as np"
   ]
  },
  {
   "cell_type": "code",
   "execution_count": 3,
   "metadata": {},
   "outputs": [
    {
     "name": "stdout",
     "output_type": "stream",
     "text": [
      "[11 22 33 44 55]\n"
     ]
    }
   ],
   "source": [
    "arr = np.array([11, 22, 33, 44, 55])\n",
    "print(arr)"
   ]
  },
  {
   "cell_type": "code",
   "execution_count": 8,
   "metadata": {},
   "outputs": [
    {
     "name": "stdout",
     "output_type": "stream",
     "text": [
      "165\n",
      "33.0\n",
      "55\n",
      "11\n",
      "4\n",
      "0\n",
      "242.0\n",
      "15.556349186104045\n",
      "33.0\n",
      "33.0\n",
      "[22. 33. 44.]\n"
     ]
    }
   ],
   "source": [
    "print(np.sum(arr)) # 합\n",
    "print(np.mean(arr)) # 평균\n",
    "print(np.max(arr)) # 최대값\n",
    "print(np.min(arr)) # 최소값\n",
    "print(np.argmax(arr)) # 최대값의 인덱스 번호\n",
    "print(np.argmin(arr)) # 최소값의 인덱스 번호\n",
    "print(np.var(arr)) # 분산\n",
    "print(np.std(arr)) # 표준편차\n",
    "print(np.median(arr)) # 중앙값\n",
    "print(np.quantile(arr, 0.5)) # 데이터를 정렬했을 때 50%에 해당하는 값\n",
    "print(np.quantile(arr, (0.25, 0.5, 0.75))) # 데이터를 정렬했을 때 25%, 50% 75%에 해당하는 값"
   ]
  }
 ],
 "metadata": {
  "kernelspec": {
   "display_name": "Python 3",
   "language": "python",
   "name": "python3"
  },
  "language_info": {
   "codemirror_mode": {
    "name": "ipython",
    "version": 3
   },
   "file_extension": ".py",
   "mimetype": "text/x-python",
   "name": "python",
   "nbconvert_exporter": "python",
   "pygments_lexer": "ipython3",
   "version": "3.8.5"
  }
 },
 "nbformat": 4,
 "nbformat_minor": 4
}
