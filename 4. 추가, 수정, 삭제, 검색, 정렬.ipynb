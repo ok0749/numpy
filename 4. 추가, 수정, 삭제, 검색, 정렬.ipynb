{
 "cells": [
  {
   "cell_type": "code",
   "execution_count": 1,
   "metadata": {},
   "outputs": [],
   "source": [
    "import numpy as np"
   ]
  },
  {
   "cell_type": "markdown",
   "metadata": {},
   "source": [
    "### 추가"
   ]
  },
  {
   "cell_type": "code",
   "execution_count": 2,
   "metadata": {},
   "outputs": [
    {
     "name": "stdout",
     "output_type": "stream",
     "text": [
      "[11 22 33 44 55]\n"
     ]
    }
   ],
   "source": [
    "arr = np.array([11, 22, 33, 44, 55])\n",
    "print(arr)"
   ]
  },
  {
   "cell_type": "code",
   "execution_count": 3,
   "metadata": {},
   "outputs": [
    {
     "name": "stdout",
     "output_type": "stream",
     "text": [
      "[ 11  22  33  44  55 100 200]\n"
     ]
    }
   ],
   "source": [
    "a = np.array([100, 200])\n",
    "arr1 = np.append(arr, a) # arr 끝에 a 추가\n",
    "print(arr1)"
   ]
  },
  {
   "cell_type": "code",
   "execution_count": 4,
   "metadata": {},
   "outputs": [
    {
     "name": "stdout",
     "output_type": "stream",
     "text": [
      "[ 11 300 400  22  33  44  55]\n"
     ]
    }
   ],
   "source": [
    "b = np.array([300, 400])\n",
    "arr2 = np.insert(arr, 1, b) # arr 인덱스 번호 1에 b 삽입\n",
    "print(arr2)"
   ]
  },
  {
   "cell_type": "markdown",
   "metadata": {},
   "source": [
    "###  수정"
   ]
  },
  {
   "cell_type": "code",
   "execution_count": 5,
   "metadata": {},
   "outputs": [
    {
     "name": "stdout",
     "output_type": "stream",
     "text": [
      "[1000   22   33   44   55]\n"
     ]
    }
   ],
   "source": [
    "# 데이터 하나 수정\n",
    "arr[0] = 1000\n",
    "print(arr)"
   ]
  },
  {
   "cell_type": "code",
   "execution_count": 6,
   "metadata": {},
   "outputs": [
    {
     "name": "stdout",
     "output_type": "stream",
     "text": [
      "[2000 1000   33   44   55]\n"
     ]
    }
   ],
   "source": [
    "# 복수개 데이터 수정\n",
    "arr[[0,1]] = 2000, 1000\n",
    "print(arr)"
   ]
  },
  {
   "cell_type": "code",
   "execution_count": 7,
   "metadata": {},
   "outputs": [
    {
     "name": "stdout",
     "output_type": "stream",
     "text": [
      "[ 1  2  3 44 55]\n",
      "[ 3  4  5 44 55]\n"
     ]
    }
   ],
   "source": [
    "# 슬라이싱으로 데이터 수정\n",
    "arr[:3] = 1, 2, 3\n",
    "print(arr)\n",
    "\n",
    "arr[:3] = arr[:3] + 2\n",
    "print(arr)"
   ]
  },
  {
   "cell_type": "code",
   "execution_count": 8,
   "metadata": {},
   "outputs": [
    {
     "name": "stdout",
     "output_type": "stream",
     "text": [
      "[  3   4   5 144 155]\n"
     ]
    }
   ],
   "source": [
    "# 10보다 큰 데이터 기존 값 + 100으로 수정 \n",
    "arr[arr > 10] = arr[arr > 10] + 100\n",
    "print(arr)"
   ]
  },
  {
   "cell_type": "markdown",
   "metadata": {},
   "source": [
    "### 삭제"
   ]
  },
  {
   "cell_type": "code",
   "execution_count": 12,
   "metadata": {},
   "outputs": [
    {
     "name": "stdout",
     "output_type": "stream",
     "text": [
      "[  5 144 155]\n"
     ]
    }
   ],
   "source": [
    "print(np.delete(arr, (0,1))) # arr의 0, 1번 인덱스 값 삭제"
   ]
  },
  {
   "cell_type": "code",
   "execution_count": 16,
   "metadata": {},
   "outputs": [
    {
     "name": "stdout",
     "output_type": "stream",
     "text": [
      "(array([0, 1, 2]),)\n",
      "['참' '참' '참' '거짓' '거짓']\n"
     ]
    }
   ],
   "source": [
    "print(np.where(arr < 10)) # 조건 만족하는 값의 인덱스 번호 반환\n",
    "print(np.where(arr < 10, '참', '거짓')) # 조건 만족하는 값 '참', 만족 안하는 값 '거짓'으로 반환"
   ]
  },
  {
   "cell_type": "code",
   "execution_count": 18,
   "metadata": {},
   "outputs": [
    {
     "name": "stdout",
     "output_type": "stream",
     "text": [
      "[144 155]\n"
     ]
    }
   ],
   "source": [
    "print(np.delete(arr, np.where(arr < 10))) # arr에서 10보다 작은 값 삭제"
   ]
  },
  {
   "cell_type": "markdown",
   "metadata": {},
   "source": [
    "### 정렬"
   ]
  },
  {
   "cell_type": "code",
   "execution_count": 30,
   "metadata": {},
   "outputs": [
    {
     "name": "stdout",
     "output_type": "stream",
     "text": [
      "[0 2 4 5 7]\n",
      "[7 5 4 2 0]\n"
     ]
    }
   ],
   "source": [
    "# 오름차순 정렬\n",
    "arr = np.array([5, 7, 0, 2, 4])\n",
    "print(np.sort(arr))\n",
    "# 내림차순 정렬\n",
    "print(np.sort(arr)[::-1]) "
   ]
  },
  {
   "cell_type": "code",
   "execution_count": 31,
   "metadata": {},
   "outputs": [
    {
     "name": "stdout",
     "output_type": "stream",
     "text": [
      "[2 3 4 0 1]\n",
      "[1 0 4 3 2]\n"
     ]
    }
   ],
   "source": [
    "# 오름차순 정렬된 데이터들의 인덱스\n",
    "print(np.argsort(arr))\n",
    "# 내림차순 정렬된 데이터들의 인덱스\n",
    "print(np.argsort(-arr))"
   ]
  }
 ],
 "metadata": {
  "kernelspec": {
   "display_name": "Python 3",
   "language": "python",
   "name": "python3"
  },
  "language_info": {
   "codemirror_mode": {
    "name": "ipython",
    "version": 3
   },
   "file_extension": ".py",
   "mimetype": "text/x-python",
   "name": "python",
   "nbconvert_exporter": "python",
   "pygments_lexer": "ipython3",
   "version": "3.8.5"
  }
 },
 "nbformat": 4,
 "nbformat_minor": 4
}
